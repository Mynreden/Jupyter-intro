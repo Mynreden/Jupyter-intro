{
 "cells": [
  {
   "cell_type": "markdown",
   "id": "286d0ff8-3072-4e21-87aa-91cb0f26d2f9",
   "metadata": {},
   "source": [
    "# Data Science Tools and Ecosystem"
   ]
  },
  {
   "cell_type": "markdown",
   "id": "998650ee-730e-46e2-9075-9be129fc6eac",
   "metadata": {},
   "source": [
    "In this notebook, Data Science Tools and Ecosystem are summarized."
   ]
  },
  {
   "cell_type": "markdown",
   "id": "18276907-cac8-4594-8c90-7b4df320f9e8",
   "metadata": {},
   "source": [
    "**Objectives:**\n",
    "* List of popular data science languages\n",
    "* List of libraries for data science\n",
    "* List of tools for data science\n",
    "* Using arithmetic operations in python\n"
   ]
  },
  {
   "cell_type": "markdown",
   "id": "d51f6973-2929-4f14-b41b-3df6011c64e6",
   "metadata": {},
   "source": [
    "Some of the popular languages that Data Scientists use are:\n",
    "1. Python\n",
    "2. R\n",
    "3. Julia\n"
   ]
  },
  {
   "cell_type": "markdown",
   "id": "ccee8e82-6784-4bea-9e1b-3f9807dbb970",
   "metadata": {},
   "source": [
    "Some of the commonly used libraries used by Data Scientists include:\n",
    "1. pandas\n",
    "2. numpy\n",
    "3. matplotlib\n",
    "4. scikit-learn\n",
    "5. caret\n",
    "6. ggplot\n",
    "7. GGally"
   ]
  },
  {
   "cell_type": "markdown",
   "id": "03f6604b-47c7-46da-a895-6887a45541f6",
   "metadata": {},
   "source": [
    "|Data Science Tools|\n",
    "|-|\n",
    "|Jupyter Notebooks / JupyterLab|\n",
    "|Google Colab|\n",
    "|Apache Spark|\n",
    "|Apache Zeppelin|\n",
    "|RStudio|"
   ]
  },
  {
   "cell_type": "markdown",
   "id": "bffaeadd-9d21-4f6e-b5eb-0d42bd1db82a",
   "metadata": {},
   "source": [
    "### Below are a few examples of evaluating arithmetic expressions in Python"
   ]
  },
  {
   "cell_type": "markdown",
   "id": "f9140edc-cf4e-494e-b861-6ff39b193eff",
   "metadata": {},
   "source": [
    "This a simple arithmetic expression to mutiply then add integers"
   ]
  },
  {
   "cell_type": "code",
   "execution_count": 4,
   "id": "fda5adb2-6bc9-4300-af86-bb5b4cdc6569",
   "metadata": {},
   "outputs": [
    {
     "data": {
      "text/plain": [
       "17"
      ]
     },
     "execution_count": 4,
     "metadata": {},
     "output_type": "execute_result"
    }
   ],
   "source": [
    "(3*4)+5"
   ]
  },
  {
   "cell_type": "markdown",
   "id": "fa63608d-8d60-4d36-b697-6192804b724b",
   "metadata": {},
   "source": [
    "This will convert 200 minutes to hours by diving by 60"
   ]
  },
  {
   "cell_type": "code",
   "execution_count": 6,
   "id": "7179a5ee-76cb-4dca-8d3a-f7f604b45e4e",
   "metadata": {},
   "outputs": [
    {
     "data": {
      "text/plain": [
       "3.3333333333333335"
      ]
     },
     "execution_count": 6,
     "metadata": {},
     "output_type": "execute_result"
    }
   ],
   "source": [
    "200 /60"
   ]
  },
  {
   "cell_type": "markdown",
   "id": "49ed51bb-d579-4a32-8ba1-3e673f36c993",
   "metadata": {},
   "source": [
    "### Author:\n",
    "Sultan "
   ]
  },
  {
   "cell_type": "code",
   "execution_count": null,
   "id": "f094bafa-b29c-424e-8272-b58918feb153",
   "metadata": {},
   "outputs": [],
   "source": []
  }
 ],
 "metadata": {
  "kernelspec": {
   "display_name": "Python 3 (ipykernel)",
   "language": "python",
   "name": "python3"
  },
  "language_info": {
   "codemirror_mode": {
    "name": "ipython",
    "version": 3
   },
   "file_extension": ".py",
   "mimetype": "text/x-python",
   "name": "python",
   "nbconvert_exporter": "python",
   "pygments_lexer": "ipython3",
   "version": "3.8.6"
  }
 },
 "nbformat": 4,
 "nbformat_minor": 5
}
